{
 "cells": [
  {
   "cell_type": "code",
   "execution_count": 1,
   "metadata": {},
   "outputs": [],
   "source": [
    "import arviz as az\n",
    "import bambi as bmb\n",
    "import matplotlib.pyplot as plt\n",
    "import numpy as np\n",
    "import pandas as pd\n",
    "import pymc3 as pm\n",
    "import theano.tensor as tt"
   ]
  },
  {
   "cell_type": "code",
   "execution_count": 2,
   "metadata": {},
   "outputs": [],
   "source": [
    "data = bmb.load_data(\"sleepstudy\")"
   ]
  },
  {
   "cell_type": "code",
   "execution_count": 4,
   "metadata": {},
   "outputs": [
    {
     "data": {
      "text/plain": [
       "Formula: Reaction ~ Days + (Days | Subject)\n",
       "Family name: Gaussian\n",
       "Link: identity\n",
       "Observations: 180\n",
       "Priors:\n",
       "  Common-level effects\n",
       "    Intercept ~ Normal(mu: 298.5079, sigma: 261.0092)\n",
       "    Days ~ Normal(mu: 0.0, sigma: 48.8915)\n",
       "\n",
       "  Group-level effects\n",
       "    1|Subject ~ Normal(mu: 0, sigma: HalfNormal(sigma: 261.0092))\n",
       "    Days|Subject ~ Normal(mu: 0, sigma: HalfNormal(sigma: 48.8915))\n",
       "\n",
       "  Auxiliary parameters\n",
       "    sigma ~ HalfStudentT(nu: 4, sigma: 56.1721)\n"
      ]
     },
     "execution_count": 4,
     "metadata": {},
     "output_type": "execute_result"
    }
   ],
   "source": [
    "model = bmb.Model(\"Reaction ~ Days + (Days | Subject)\", data)\n",
    "model"
   ]
  },
  {
   "cell_type": "code",
   "execution_count": 5,
   "metadata": {},
   "outputs": [],
   "source": [
    "X = model._design.common.design_matrix\n",
    "Z = model._design.group.design_matrix"
   ]
  },
  {
   "cell_type": "code",
   "execution_count": 8,
   "metadata": {},
   "outputs": [
    {
     "name": "stderr",
     "output_type": "stream",
     "text": [
      "Auto-assigning NUTS sampler...\n",
      "Initializing NUTS using jitter+adapt_diag...\n",
      "Multiprocess sampling (2 chains in 2 jobs)\n",
      "NUTS: [sigma, days_offset, days_sigma, days_mu, intercept_offset, intercept_sigma, intercept_mu]\n"
     ]
    },
    {
     "data": {
      "text/html": [
       "\n",
       "    <div>\n",
       "        <style>\n",
       "            /* Turns off some styling */\n",
       "            progress {\n",
       "                /* gets rid of default border in Firefox and Opera. */\n",
       "                border: none;\n",
       "                /* Needs to be in here for Safari polyfill so background images work as expected. */\n",
       "                background-size: auto;\n",
       "            }\n",
       "            .progress-bar-interrupted, .progress-bar-interrupted::-webkit-progress-bar {\n",
       "                background: #F44336;\n",
       "            }\n",
       "        </style>\n",
       "      <progress value='4000' class='' max='4000' style='width:300px; height:20px; vertical-align: middle;'></progress>\n",
       "      100.00% [4000/4000 00:11<00:00 Sampling 2 chains, 0 divergences]\n",
       "    </div>\n",
       "    "
      ],
      "text/plain": [
       "<IPython.core.display.HTML object>"
      ]
     },
     "metadata": {},
     "output_type": "display_data"
    },
    {
     "name": "stderr",
     "output_type": "stream",
     "text": [
      "Sampling 2 chains for 1_000 tune and 1_000 draw iterations (2_000 + 2_000 draws total) took 12 seconds.\n"
     ]
    }
   ],
   "source": [
    "subject_idx, subjects = pd.factorize(data[\"Subject\"])\n",
    "coords = {\"subjects\": list(subjects)}\n",
    "\n",
    "with pm.Model(coords=coords) as model_pm:\n",
    "    intercept_mu = pm.Normal(\"intercept_mu\", mu=0, sigma=250)\n",
    "    intercept_sigma = pm.HalfNormal(\"intercept_sigma\", sigma=200)\n",
    "    intercept_offset = pm.Normal(\"intercept_offset\", dims=\"subjects\")\n",
    "    intercept = pm.Deterministic(\"intercept\", intercept_mu + intercept_sigma * intercept_offset)\n",
    "\n",
    "    days_mu = pm.Normal(\"days_mu\", mu=0, sigma=50)\n",
    "    days_sigma = pm.HalfNormal(\"days_sigma\", sigma=50)\n",
    "    days_offset = pm.Normal(\"days_offset\", dims=\"subjects\")\n",
    "    days = pm.Deterministic(\"days\", days_mu + days_sigma * days_offset)\n",
    "\n",
    "    sigma = pm.HalfStudentT(\"sigma\", nu=4, sigma=50)\n",
    "    \n",
    "    mu = intercept[subject_idx] + days[subject_idx] * data.Days.values\n",
    "    mu = pm.Deterministic(\"mu\", mu)\n",
    "    reaction = pm.Normal(\"reaction\", mu=mu, sigma=sigma, observed=data.Reaction.values) \n",
    "\n",
    "    idata_pm = pm.sample(return_inferencedata=True)"
   ]
  },
  {
   "cell_type": "code",
   "execution_count": 9,
   "metadata": {},
   "outputs": [
    {
     "data": {
      "text/plain": [
       "12.461889028549194"
      ]
     },
     "execution_count": 9,
     "metadata": {},
     "output_type": "execute_result"
    }
   ],
   "source": [
    "idata_pm.posterior.sampling_time"
   ]
  },
  {
   "cell_type": "code",
   "execution_count": 10,
   "metadata": {},
   "outputs": [],
   "source": [
    "from scipy.sparse import csc_matrix\n",
    "import theano"
   ]
  },
  {
   "cell_type": "code",
   "execution_count": 34,
   "metadata": {},
   "outputs": [
    {
     "data": {
      "text/plain": [
       "(180, 36)"
      ]
     },
     "execution_count": 34,
     "metadata": {},
     "output_type": "execute_result"
    }
   ],
   "source": [
    "Z.shape"
   ]
  },
  {
   "cell_type": "code",
   "execution_count": 32,
   "metadata": {},
   "outputs": [
    {
     "name": "stderr",
     "output_type": "stream",
     "text": [
      "Auto-assigning NUTS sampler...\n",
      "Initializing NUTS using jitter+adapt_diag...\n",
      "Multiprocess sampling (2 chains in 2 jobs)\n",
      "NUTS: [sigma, days_offset, days_sigma, intercept_offset, intercept_sigma, days, intercept]\n"
     ]
    },
    {
     "data": {
      "text/html": [
       "\n",
       "    <div>\n",
       "        <style>\n",
       "            /* Turns off some styling */\n",
       "            progress {\n",
       "                /* gets rid of default border in Firefox and Opera. */\n",
       "                border: none;\n",
       "                /* Needs to be in here for Safari polyfill so background images work as expected. */\n",
       "                background-size: auto;\n",
       "            }\n",
       "            .progress-bar-interrupted, .progress-bar-interrupted::-webkit-progress-bar {\n",
       "                background: #F44336;\n",
       "            }\n",
       "        </style>\n",
       "      <progress value='4000' class='' max='4000' style='width:300px; height:20px; vertical-align: middle;'></progress>\n",
       "      100.00% [4000/4000 00:13<00:00 Sampling 2 chains, 0 divergences]\n",
       "    </div>\n",
       "    "
      ],
      "text/plain": [
       "<IPython.core.display.HTML object>"
      ]
     },
     "metadata": {},
     "output_type": "display_data"
    },
    {
     "name": "stderr",
     "output_type": "stream",
     "text": [
      "Sampling 2 chains for 1_000 tune and 1_000 draw iterations (2_000 + 2_000 draws total) took 13 seconds.\n"
     ]
    }
   ],
   "source": [
    "subject_idx, subjects = pd.factorize(data[\"Subject\"])\n",
    "coords = {\"subjects\": list(subjects)}\n",
    "\n",
    "with pm.Model(coords=coords) as model_pm:\n",
    "    intercept = pm.Normal(\"intercept\", mu=300, sigma=250, shape=1)\n",
    "    days = pm.Normal(\"days\", mu=0, sigma=50, shape=1)\n",
    "    \n",
    "    b = tt.concatenate([intercept, days])\n",
    "\n",
    "    intercept_sigma = pm.HalfNormal(\"intercept_sigma\", sigma=200)\n",
    "    intercept_offset = pm.Normal(\"intercept_offset\", dims=\"subjects\")\n",
    "    intercept_random = pm.Deterministic(\"intercept_random\", intercept_sigma * intercept_offset)\n",
    "\n",
    "    days_sigma = pm.HalfNormal(\"days_sigma\", sigma=50)\n",
    "    days_offset = pm.Normal(\"days_offset\", dims=\"subjects\")\n",
    "    days_random = pm.Deterministic(\"days_random\", days_sigma * days_offset)\n",
    "\n",
    "    u = tt.concatenate([intercept_random, days_random])[:, None]\n",
    "    mu = pm.math.dot(X, b) + theano.sparse.structured_dot(csc_matrix(Z), u).flatten()\n",
    "\n",
    "    mu = pm.Deterministic(\"mu\", mu)\n",
    "    \n",
    "    sigma = pm.HalfStudentT(\"sigma\", nu=4, sigma=50)\n",
    "    reaction = pm.Normal(\"reaction\", mu=mu, sigma=sigma, observed=data.Reaction.values) \n",
    "\n",
    "    idata_pm = pm.sample(return_inferencedata=True)"
   ]
  },
  {
   "cell_type": "code",
   "execution_count": 33,
   "metadata": {},
   "outputs": [
    {
     "data": {
      "text/html": [
       "<div>\n",
       "<style scoped>\n",
       "    .dataframe tbody tr th:only-of-type {\n",
       "        vertical-align: middle;\n",
       "    }\n",
       "\n",
       "    .dataframe tbody tr th {\n",
       "        vertical-align: top;\n",
       "    }\n",
       "\n",
       "    .dataframe thead th {\n",
       "        text-align: right;\n",
       "    }\n",
       "</style>\n",
       "<table border=\"1\" class=\"dataframe\">\n",
       "  <thead>\n",
       "    <tr style=\"text-align: right;\">\n",
       "      <th></th>\n",
       "      <th>mean</th>\n",
       "      <th>sd</th>\n",
       "      <th>hdi_3%</th>\n",
       "      <th>hdi_97%</th>\n",
       "      <th>mcse_mean</th>\n",
       "      <th>mcse_sd</th>\n",
       "      <th>ess_bulk</th>\n",
       "      <th>ess_tail</th>\n",
       "      <th>r_hat</th>\n",
       "    </tr>\n",
       "  </thead>\n",
       "  <tbody>\n",
       "    <tr>\n",
       "      <th>intercept[0]</th>\n",
       "      <td>251.544</td>\n",
       "      <td>7.569</td>\n",
       "      <td>236.534</td>\n",
       "      <td>265.398</td>\n",
       "      <td>0.228</td>\n",
       "      <td>0.161</td>\n",
       "      <td>1102.0</td>\n",
       "      <td>1172.0</td>\n",
       "      <td>1.0</td>\n",
       "    </tr>\n",
       "    <tr>\n",
       "      <th>days[0]</th>\n",
       "      <td>10.540</td>\n",
       "      <td>1.741</td>\n",
       "      <td>7.043</td>\n",
       "      <td>13.623</td>\n",
       "      <td>0.060</td>\n",
       "      <td>0.043</td>\n",
       "      <td>849.0</td>\n",
       "      <td>948.0</td>\n",
       "      <td>1.0</td>\n",
       "    </tr>\n",
       "    <tr>\n",
       "      <th>intercept_offset[308]</th>\n",
       "      <td>0.039</td>\n",
       "      <td>0.538</td>\n",
       "      <td>-0.943</td>\n",
       "      <td>1.036</td>\n",
       "      <td>0.012</td>\n",
       "      <td>0.011</td>\n",
       "      <td>2074.0</td>\n",
       "      <td>1787.0</td>\n",
       "      <td>1.0</td>\n",
       "    </tr>\n",
       "    <tr>\n",
       "      <th>intercept_offset[309]</th>\n",
       "      <td>-1.526</td>\n",
       "      <td>0.554</td>\n",
       "      <td>-2.589</td>\n",
       "      <td>-0.490</td>\n",
       "      <td>0.013</td>\n",
       "      <td>0.009</td>\n",
       "      <td>1883.0</td>\n",
       "      <td>1432.0</td>\n",
       "      <td>1.0</td>\n",
       "    </tr>\n",
       "    <tr>\n",
       "      <th>intercept_offset[310]</th>\n",
       "      <td>-1.484</td>\n",
       "      <td>0.552</td>\n",
       "      <td>-2.478</td>\n",
       "      <td>-0.445</td>\n",
       "      <td>0.012</td>\n",
       "      <td>0.009</td>\n",
       "      <td>2226.0</td>\n",
       "      <td>1690.0</td>\n",
       "      <td>1.0</td>\n",
       "    </tr>\n",
       "    <tr>\n",
       "      <th>...</th>\n",
       "      <td>...</td>\n",
       "      <td>...</td>\n",
       "      <td>...</td>\n",
       "      <td>...</td>\n",
       "      <td>...</td>\n",
       "      <td>...</td>\n",
       "      <td>...</td>\n",
       "      <td>...</td>\n",
       "      <td>...</td>\n",
       "    </tr>\n",
       "    <tr>\n",
       "      <th>mu[176]</th>\n",
       "      <td>334.274</td>\n",
       "      <td>9.029</td>\n",
       "      <td>317.388</td>\n",
       "      <td>351.326</td>\n",
       "      <td>0.193</td>\n",
       "      <td>0.136</td>\n",
       "      <td>2202.0</td>\n",
       "      <td>1284.0</td>\n",
       "      <td>1.0</td>\n",
       "    </tr>\n",
       "    <tr>\n",
       "      <th>mu[177]</th>\n",
       "      <td>346.034</td>\n",
       "      <td>10.438</td>\n",
       "      <td>325.078</td>\n",
       "      <td>364.694</td>\n",
       "      <td>0.220</td>\n",
       "      <td>0.155</td>\n",
       "      <td>2261.0</td>\n",
       "      <td>1441.0</td>\n",
       "      <td>1.0</td>\n",
       "    </tr>\n",
       "    <tr>\n",
       "      <th>mu[178]</th>\n",
       "      <td>357.795</td>\n",
       "      <td>12.147</td>\n",
       "      <td>335.762</td>\n",
       "      <td>381.165</td>\n",
       "      <td>0.251</td>\n",
       "      <td>0.178</td>\n",
       "      <td>2335.0</td>\n",
       "      <td>1476.0</td>\n",
       "      <td>1.0</td>\n",
       "    </tr>\n",
       "    <tr>\n",
       "      <th>mu[179]</th>\n",
       "      <td>369.555</td>\n",
       "      <td>14.047</td>\n",
       "      <td>343.723</td>\n",
       "      <td>396.071</td>\n",
       "      <td>0.292</td>\n",
       "      <td>0.207</td>\n",
       "      <td>2306.0</td>\n",
       "      <td>1541.0</td>\n",
       "      <td>1.0</td>\n",
       "    </tr>\n",
       "    <tr>\n",
       "      <th>sigma</th>\n",
       "      <td>25.745</td>\n",
       "      <td>1.527</td>\n",
       "      <td>22.754</td>\n",
       "      <td>28.490</td>\n",
       "      <td>0.037</td>\n",
       "      <td>0.026</td>\n",
       "      <td>1678.0</td>\n",
       "      <td>1373.0</td>\n",
       "      <td>1.0</td>\n",
       "    </tr>\n",
       "  </tbody>\n",
       "</table>\n",
       "<p>257 rows × 9 columns</p>\n",
       "</div>"
      ],
      "text/plain": [
       "                          mean      sd   hdi_3%  hdi_97%  mcse_mean  mcse_sd  \\\n",
       "intercept[0]           251.544   7.569  236.534  265.398      0.228    0.161   \n",
       "days[0]                 10.540   1.741    7.043   13.623      0.060    0.043   \n",
       "intercept_offset[308]    0.039   0.538   -0.943    1.036      0.012    0.011   \n",
       "intercept_offset[309]   -1.526   0.554   -2.589   -0.490      0.013    0.009   \n",
       "intercept_offset[310]   -1.484   0.552   -2.478   -0.445      0.012    0.009   \n",
       "...                        ...     ...      ...      ...        ...      ...   \n",
       "mu[176]                334.274   9.029  317.388  351.326      0.193    0.136   \n",
       "mu[177]                346.034  10.438  325.078  364.694      0.220    0.155   \n",
       "mu[178]                357.795  12.147  335.762  381.165      0.251    0.178   \n",
       "mu[179]                369.555  14.047  343.723  396.071      0.292    0.207   \n",
       "sigma                   25.745   1.527   22.754   28.490      0.037    0.026   \n",
       "\n",
       "                       ess_bulk  ess_tail  r_hat  \n",
       "intercept[0]             1102.0    1172.0    1.0  \n",
       "days[0]                   849.0     948.0    1.0  \n",
       "intercept_offset[308]    2074.0    1787.0    1.0  \n",
       "intercept_offset[309]    1883.0    1432.0    1.0  \n",
       "intercept_offset[310]    2226.0    1690.0    1.0  \n",
       "...                         ...       ...    ...  \n",
       "mu[176]                  2202.0    1284.0    1.0  \n",
       "mu[177]                  2261.0    1441.0    1.0  \n",
       "mu[178]                  2335.0    1476.0    1.0  \n",
       "mu[179]                  2306.0    1541.0    1.0  \n",
       "sigma                    1678.0    1373.0    1.0  \n",
       "\n",
       "[257 rows x 9 columns]"
      ]
     },
     "execution_count": 33,
     "metadata": {},
     "output_type": "execute_result"
    }
   ],
   "source": [
    "az.summary(idata_pm)"
   ]
  }
 ],
 "metadata": {
  "interpreter": {
   "hash": "3fb55a5ee3f39f92efc764f94bee8d23b2d6c27a57dd0a3970937cfa1b6f6994"
  },
  "kernelspec": {
   "display_name": "Python 3.8.5 64-bit ('bmb': conda)",
   "name": "python3"
  },
  "language_info": {
   "codemirror_mode": {
    "name": "ipython",
    "version": 3
   },
   "file_extension": ".py",
   "mimetype": "text/x-python",
   "name": "python",
   "nbconvert_exporter": "python",
   "pygments_lexer": "ipython3",
   "version": "3.8.5"
  },
  "orig_nbformat": 4
 },
 "nbformat": 4,
 "nbformat_minor": 2
}
